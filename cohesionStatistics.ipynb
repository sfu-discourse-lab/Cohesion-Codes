{
 "cells": [
  {
   "cell_type": "markdown",
   "id": "285fee26-d73e-40b0-940d-95baf557f183",
   "metadata": {},
   "source": [
    "# Cohesion Statistics "
   ]
  },
  {
   "cell_type": "markdown",
   "id": "f067fb04-3d99-4535-b770-4937cb7e37f5",
   "metadata": {},
   "source": [
    "## Libraries"
   ]
  },
  {
   "cell_type": "code",
   "execution_count": 14,
   "id": "f1dcd5e9-e1b1-4f69-9b08-3b3d9bf3236f",
   "metadata": {},
   "outputs": [],
   "source": [
    "import pandas as pd\n",
    "from tabulate import tabulate"
   ]
  },
  {
   "cell_type": "markdown",
   "id": "b37a4661-9c56-47db-ab0b-39f3d250532d",
   "metadata": {},
   "source": [
    "## Reading file\n",
    "The file_path in the cell below is the only thing you need to change in this notebook! Make sure to export as JSON in LabelStudio."
   ]
  },
  {
   "cell_type": "code",
   "execution_count": 15,
   "id": "7d4b4ef1-7093-4a4f-9f90-1c176e8e9e39",
   "metadata": {},
   "outputs": [],
   "source": [
    "# reads json file and saves as pandas dataframe\n",
    "file_path = 'project_vanja.json' \n",
    "anno_df = pd.read_json(file_path)"
   ]
  },
  {
   "cell_type": "markdown",
   "id": "9ce33a1b-3867-4ee4-8125-5a71b8a642cf",
   "metadata": {},
   "source": [
    "## Calculations"
   ]
  },
  {
   "cell_type": "code",
   "execution_count": 3,
   "id": "e64da6b0-63de-4a75-a3dc-86ae3b39215b",
   "metadata": {},
   "outputs": [],
   "source": [
    "# create a dictionary based on the annotation scheme, where all values are set to zero\n",
    "label_count_dic = {'Reference': \n",
    "                   {'personal': 0, \n",
    "                    'demonstrative': 0, \n",
    "                    'comparative': 0},\n",
    "                   'Conjunction':\n",
    "                   {'implicit': 0, \n",
    "                    'explicit': 0},\n",
    "                   'Substitution and Ellipsis':\n",
    "                   {'nominal': 0, \n",
    "                    'verbal': 0,\n",
    "                    'clausal': 0},\n",
    "                   'Lexical Organization': \n",
    "                   {'repetition': 0,\n",
    "                    'synonymy': 0, \n",
    "                    'hyponymy': 0,\n",
    "                    'meronymy': 0,\n",
    "                    'collocation': 0}}"
   ]
  },
  {
   "cell_type": "code",
   "execution_count": 4,
   "id": "da3836ea-1430-4fd8-87c7-1109441d58a4",
   "metadata": {},
   "outputs": [],
   "source": [
    "# counting \n",
    "for anno in anno_df['annotations'][0][0]['result']:\n",
    "    for label in anno['value']['taxonomy']:\n",
    "        label_count_dic[label[0]][label[1]] = label_count_dic[label[0]][label[1]] + 1"
   ]
  },
  {
   "cell_type": "code",
   "execution_count": 5,
   "id": "f8107084-711c-4a39-a74b-e35ac6bd62d0",
   "metadata": {},
   "outputs": [],
   "source": [
    "# calculates the total number of each cohesion type\n",
    "for cohesion_type in label_count_dic.keys():\n",
    "    label_count_dic[cohesion_type]['total count'] = sum(list(label_count_dic[cohesion_type].values())) "
   ]
  },
  {
   "cell_type": "code",
   "execution_count": 6,
   "id": "12801fdd-96e5-4a14-adc6-c0c035010cba",
   "metadata": {},
   "outputs": [],
   "source": [
    "# calculates total number of cohesive ties\n",
    "total = 0\n",
    "for cohesion_type in label_count_dic.keys():\n",
    "    total = total + label_count_dic[cohesion_type]['total count']"
   ]
  },
  {
   "cell_type": "code",
   "execution_count": 7,
   "id": "ddf6ba5d-e26c-40d3-ab97-99bbc7469004",
   "metadata": {
    "scrolled": true
   },
   "outputs": [
    {
     "name": "stdout",
     "output_type": "stream",
     "text": [
      "Cohesion Type                N    %\n",
      "-------------------------  ---  ---\n",
      "Reference                    3   50\n",
      "Conjunction                  3   50\n",
      "Substitution and Ellipsis    0    0\n",
      "Lexical Organization         0    0\n",
      "Total                        6  100\n"
     ]
    }
   ],
   "source": [
    "# creates a list of lists containing the cohesion types, their total number, and their percentage \n",
    "cohesion_types_lst = []\n",
    "for cohesion_type in label_count_dic.keys():\n",
    "    cohesion_types_lst.append([cohesion_type, label_count_dic[cohesion_type]['total count'], label_count_dic[cohesion_type]['total count']/total*100])\n",
    "cohesion_types_lst.append(['Total', total, 100])\n",
    "\n",
    "# creates a table of the cohesion types based on the previous list\n",
    "table = tabulate(\n",
    "    cohesion_types_lst, \n",
    "    headers=[\"Cohesion Type\", \"N\", \"%\"]\n",
    ")\n",
    "\n",
    "# prints the table\n",
    "print(table)"
   ]
  },
  {
   "cell_type": "markdown",
   "id": "57e4bef2-90d2-4913-9377-8140b68a41e9",
   "metadata": {},
   "source": [
    "The table below will display References Types as a % of Cohesive Ties."
   ]
  },
  {
   "cell_type": "code",
   "execution_count": 8,
   "id": "a184f0eb-5b60-4186-be3b-33f363ced0d4",
   "metadata": {},
   "outputs": [
    {
     "name": "stdout",
     "output_type": "stream",
     "text": [
      "Reference Type      N    %\n",
      "----------------  ---  ---\n",
      "personal            3   50\n",
      "demonstrative       0    0\n",
      "comparative         0    0\n",
      "total count         3   50\n"
     ]
    }
   ],
   "source": [
    "# defining multiplication factor \n",
    "factor = label_count_dic['Reference']['total count']/total*100\n",
    "\n",
    "# creates a list of lists containing the cohesion types, their total number, and their percentage \n",
    "types_lst = []\n",
    "cohesion_type = 'Reference'\n",
    "for subtype in label_count_dic[cohesion_type].keys():\n",
    "    N = label_count_dic[cohesion_type][subtype]\n",
    "    try:\n",
    "        percent = N/label_count_dic[cohesion_type]['total count']*factor\n",
    "    except ZeroDivisionError:\n",
    "        percent = 0\n",
    "    types_lst.append([subtype, N, percent])\n",
    "    \n",
    "# creates a table of the cohesion types based on the previous list\n",
    "table = tabulate(\n",
    "    types_lst, \n",
    "    headers=[\"Reference Type\", \"N\", \"%\"]\n",
    ")\n",
    "\n",
    "# prints the table\n",
    "print(table)"
   ]
  },
  {
   "cell_type": "code",
   "execution_count": 9,
   "id": "01f8506b-8128-4e5a-af2c-817eab8c2582",
   "metadata": {},
   "outputs": [],
   "source": [
    "def table_types(cohesion_type, dic):\n",
    "    '''\n",
    "    takes a string representing the cohesion type and dictionary of the cohesion counts as input.\n",
    "    returns a table of the types, their total number, and their percentage.\n",
    "    '''\n",
    "    # creates a list of lists containing the types, their total number, and their percentage\n",
    "    types_lst = []\n",
    "    for subtype in label_count_dic[cohesion_type].keys():\n",
    "        N = label_count_dic[cohesion_type][subtype]\n",
    "        try:\n",
    "            percent = N/label_count_dic[cohesion_type]['total count']*100\n",
    "        except ZeroDivisionError:\n",
    "            percent = 0\n",
    "        types_lst.append([subtype, N, percent])\n",
    "    \n",
    "    # creates a table of the conjunction types based on the previous list\n",
    "    table = tabulate(\n",
    "        types_lst, \n",
    "        headers=[cohesion_type+\" Type\", \"N\", \"%\"]\n",
    "    )\n",
    "    \n",
    "    # prints the table\n",
    "    print(table)"
   ]
  },
  {
   "cell_type": "code",
   "execution_count": 10,
   "id": "06c5b223-c90e-4d8a-8d24-093d546f9ff6",
   "metadata": {},
   "outputs": [
    {
     "name": "stdout",
     "output_type": "stream",
     "text": [
      "Conjunction Type      N         %\n",
      "------------------  ---  --------\n",
      "implicit              1   33.3333\n",
      "explicit              2   66.6667\n",
      "total count           3  100\n"
     ]
    }
   ],
   "source": [
    "table_types('Conjunction', label_count_dic)"
   ]
  },
  {
   "cell_type": "code",
   "execution_count": 11,
   "id": "7436a66b-4243-45bf-9a64-a1c9ebf61915",
   "metadata": {},
   "outputs": [
    {
     "name": "stdout",
     "output_type": "stream",
     "text": [
      "Reference Type      N    %\n",
      "----------------  ---  ---\n",
      "personal            3  100\n",
      "demonstrative       0    0\n",
      "comparative         0    0\n",
      "total count         3  100\n"
     ]
    }
   ],
   "source": [
    "table_types('Reference', label_count_dic)"
   ]
  },
  {
   "cell_type": "code",
   "execution_count": 12,
   "id": "dd3d7641-118b-4faf-ba41-2a882663543c",
   "metadata": {},
   "outputs": [
    {
     "name": "stdout",
     "output_type": "stream",
     "text": [
      "Substitution and Ellipsis Type      N    %\n",
      "--------------------------------  ---  ---\n",
      "nominal                             0    0\n",
      "verbal                              0    0\n",
      "clausal                             0    0\n",
      "total count                         0    0\n"
     ]
    }
   ],
   "source": [
    "table_types('Substitution and Ellipsis', label_count_dic)"
   ]
  },
  {
   "cell_type": "code",
   "execution_count": 13,
   "id": "b0922ee1-dc2b-4fd6-a615-9cc2659864f0",
   "metadata": {},
   "outputs": [
    {
     "name": "stdout",
     "output_type": "stream",
     "text": [
      "Lexical Organization Type      N    %\n",
      "---------------------------  ---  ---\n",
      "repetition                     0    0\n",
      "synonymy                       0    0\n",
      "hyponymy                       0    0\n",
      "meronymy                       0    0\n",
      "collocation                    0    0\n",
      "total count                    0    0\n"
     ]
    }
   ],
   "source": [
    "table_types('Lexical Organization', label_count_dic)"
   ]
  },
  {
   "cell_type": "code",
   "execution_count": null,
   "id": "c3b6bb3d-341d-4308-a358-6532f979591e",
   "metadata": {},
   "outputs": [],
   "source": []
  }
 ],
 "metadata": {
  "kernelspec": {
   "display_name": "Python 3 (ipykernel)",
   "language": "python",
   "name": "python3"
  },
  "language_info": {
   "codemirror_mode": {
    "name": "ipython",
    "version": 3
   },
   "file_extension": ".py",
   "mimetype": "text/x-python",
   "name": "python",
   "nbconvert_exporter": "python",
   "pygments_lexer": "ipython3",
   "version": "3.10.11"
  }
 },
 "nbformat": 4,
 "nbformat_minor": 5
}
